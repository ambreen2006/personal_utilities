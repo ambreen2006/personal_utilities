{
 "cells": [
  {
   "cell_type": "code",
   "execution_count": 4,
   "metadata": {},
   "outputs": [],
   "source": [
    "import requests\n",
    "import pandas as pd\n",
    "from bs4 import BeautifulSoup"
   ]
  },
  {
   "cell_type": "code",
   "execution_count": 5,
   "metadata": {},
   "outputs": [],
   "source": [
    "page_src = \"Data/6_months.html\""
   ]
  },
  {
   "cell_type": "code",
   "execution_count": 6,
   "metadata": {},
   "outputs": [],
   "source": [
    "data = open(page_src).read()\n",
    "soup = BeautifulSoup(data, 'html.parser')"
   ]
  },
  {
   "cell_type": "code",
   "execution_count": 7,
   "metadata": {},
   "outputs": [],
   "source": [
    "all_questions = soup.find_all('tr')"
   ]
  },
  {
   "cell_type": "code",
   "execution_count": 8,
   "metadata": {},
   "outputs": [
    {
     "data": {
      "text/plain": [
       "'Total # of Questions'"
      ]
     },
     "metadata": {},
     "output_type": "display_data"
    },
    {
     "data": {
      "text/plain": [
       "327"
      ]
     },
     "metadata": {},
     "output_type": "display_data"
    }
   ],
   "source": [
    "display('Total # of Questions', len(all_questions))"
   ]
  },
  {
   "cell_type": "code",
   "execution_count": 9,
   "metadata": {
    "scrolled": false
   },
   "outputs": [],
   "source": [
    "not_attempted_questions = []\n",
    "for question in all_questions:\n",
    "    \n",
    "    attempted = False\n",
    "    title = \"\"\n",
    "    pid = -1\n",
    "    freq = 10\n",
    "    difficulty = None\n",
    "    for child in question.children:\n",
    "        if child.span:\n",
    "            span = child.span\n",
    "            if 'fa-check' in span.get_attribute_list('class'):\n",
    "                attempted = True\n",
    "        if child['label'] == 'Title':\n",
    "            title = child.div.a.contents[0]\n",
    "        if child['label'] == '#':\n",
    "            pid = int(child.text)\n",
    "        if child['label'].startswith('Frequency'):\n",
    "            freq = float(child[\"value\"])\n",
    "        if child['label'].startswith('Difficulty'):\n",
    "            difficulty = child.text\n",
    "    \n",
    "    if not attempted:\n",
    "        not_attempted_questions.append((pid, title, freq, difficulty))"
   ]
  },
  {
   "cell_type": "code",
   "execution_count": 10,
   "metadata": {},
   "outputs": [],
   "source": [
    "df = pd.DataFrame(not_attempted_questions, columns=['#', 'Title', 'Frequency', \"Difficulty\"])"
   ]
  },
  {
   "cell_type": "code",
   "execution_count": 11,
   "metadata": {},
   "outputs": [
    {
     "data": {
      "text/html": [
       "<div>\n",
       "<style scoped>\n",
       "    .dataframe tbody tr th:only-of-type {\n",
       "        vertical-align: middle;\n",
       "    }\n",
       "\n",
       "    .dataframe tbody tr th {\n",
       "        vertical-align: top;\n",
       "    }\n",
       "\n",
       "    .dataframe thead th {\n",
       "        text-align: right;\n",
       "    }\n",
       "</style>\n",
       "<table border=\"1\" class=\"dataframe\">\n",
       "  <thead>\n",
       "    <tr style=\"text-align: right;\">\n",
       "      <th></th>\n",
       "      <th>#</th>\n",
       "      <th>Title</th>\n",
       "      <th>Frequency</th>\n",
       "      <th>Difficulty</th>\n",
       "    </tr>\n",
       "  </thead>\n",
       "  <tbody>\n",
       "    <tr>\n",
       "      <th>8</th>\n",
       "      <td>224</td>\n",
       "      <td>Basic Calculator</td>\n",
       "      <td>0.092184</td>\n",
       "      <td>Hard</td>\n",
       "    </tr>\n",
       "    <tr>\n",
       "      <th>9</th>\n",
       "      <td>689</td>\n",
       "      <td>Maximum Sum of 3 Non-Overlapping Subarrays</td>\n",
       "      <td>0.057987</td>\n",
       "      <td>Hard</td>\n",
       "    </tr>\n",
       "    <tr>\n",
       "      <th>10</th>\n",
       "      <td>68</td>\n",
       "      <td>Text Justification</td>\n",
       "      <td>0.010672</td>\n",
       "      <td>Hard</td>\n",
       "    </tr>\n",
       "    <tr>\n",
       "      <th>27</th>\n",
       "      <td>489</td>\n",
       "      <td>Robot Room Cleaner</td>\n",
       "      <td>0.049899</td>\n",
       "      <td>Hard</td>\n",
       "    </tr>\n",
       "    <tr>\n",
       "      <th>46</th>\n",
       "      <td>460</td>\n",
       "      <td>LFU Cache</td>\n",
       "      <td>0.016557</td>\n",
       "      <td>Hard</td>\n",
       "    </tr>\n",
       "    <tr>\n",
       "      <th>55</th>\n",
       "      <td>154</td>\n",
       "      <td>Find Minimum in Rotated Sorted Array II</td>\n",
       "      <td>0.010799</td>\n",
       "      <td>Hard</td>\n",
       "    </tr>\n",
       "    <tr>\n",
       "      <th>58</th>\n",
       "      <td>25</td>\n",
       "      <td>Reverse Nodes in k-Group</td>\n",
       "      <td>0.035339</td>\n",
       "      <td>Hard</td>\n",
       "    </tr>\n",
       "    <tr>\n",
       "      <th>65</th>\n",
       "      <td>480</td>\n",
       "      <td>Sliding Window Median</td>\n",
       "      <td>0.092659</td>\n",
       "      <td>Hard</td>\n",
       "    </tr>\n",
       "    <tr>\n",
       "      <th>78</th>\n",
       "      <td>741</td>\n",
       "      <td>Cherry Pickup</td>\n",
       "      <td>0.037919</td>\n",
       "      <td>Hard</td>\n",
       "    </tr>\n",
       "    <tr>\n",
       "      <th>103</th>\n",
       "      <td>759</td>\n",
       "      <td>Employee Free Time</td>\n",
       "      <td>0.040023</td>\n",
       "      <td>Hard</td>\n",
       "    </tr>\n",
       "    <tr>\n",
       "      <th>108</th>\n",
       "      <td>815</td>\n",
       "      <td>Bus Routes</td>\n",
       "      <td>0.034133</td>\n",
       "      <td>Hard</td>\n",
       "    </tr>\n",
       "    <tr>\n",
       "      <th>117</th>\n",
       "      <td>1547</td>\n",
       "      <td>Minimum Cost to Cut a Stick</td>\n",
       "      <td>0.050073</td>\n",
       "      <td>Hard</td>\n",
       "    </tr>\n",
       "  </tbody>\n",
       "</table>\n",
       "</div>"
      ],
      "text/plain": [
       "        #                                       Title  Frequency Difficulty\n",
       "8     224                            Basic Calculator   0.092184       Hard\n",
       "9     689  Maximum Sum of 3 Non-Overlapping Subarrays   0.057987       Hard\n",
       "10     68                          Text Justification   0.010672       Hard\n",
       "27    489                          Robot Room Cleaner   0.049899       Hard\n",
       "46    460                                   LFU Cache   0.016557       Hard\n",
       "55    154     Find Minimum in Rotated Sorted Array II   0.010799       Hard\n",
       "58     25                    Reverse Nodes in k-Group   0.035339       Hard\n",
       "65    480                       Sliding Window Median   0.092659       Hard\n",
       "78    741                               Cherry Pickup   0.037919       Hard\n",
       "103   759                          Employee Free Time   0.040023       Hard\n",
       "108   815                                  Bus Routes   0.034133       Hard\n",
       "117  1547                 Minimum Cost to Cut a Stick   0.050073       Hard"
      ]
     },
     "metadata": {},
     "output_type": "display_data"
    }
   ],
   "source": [
    "display(df.loc[df['Difficulty']=='Hard'])"
   ]
  },
  {
   "cell_type": "code",
   "execution_count": 12,
   "metadata": {},
   "outputs": [
    {
     "data": {
      "text/plain": [
       "(120, 4)"
      ]
     },
     "execution_count": 12,
     "metadata": {},
     "output_type": "execute_result"
    }
   ],
   "source": [
    "df.shape"
   ]
  },
  {
   "cell_type": "code",
   "execution_count": 13,
   "metadata": {},
   "outputs": [
    {
     "data": {
      "text/plain": [
       "#             12\n",
       "Title         12\n",
       "Frequency     12\n",
       "Difficulty    12\n",
       "dtype: int64"
      ]
     },
     "metadata": {},
     "output_type": "display_data"
    }
   ],
   "source": [
    "display(df.loc[df['Difficulty']=='Hard'].count())"
   ]
  },
  {
   "cell_type": "code",
   "execution_count": null,
   "metadata": {},
   "outputs": [],
   "source": []
  }
 ],
 "metadata": {
  "kernelspec": {
   "display_name": "Python 3",
   "language": "python",
   "name": "python3"
  },
  "language_info": {
   "codemirror_mode": {
    "name": "ipython",
    "version": 3
   },
   "file_extension": ".py",
   "mimetype": "text/x-python",
   "name": "python",
   "nbconvert_exporter": "python",
   "pygments_lexer": "ipython3",
   "version": "3.7.7"
  }
 },
 "nbformat": 4,
 "nbformat_minor": 4
}
